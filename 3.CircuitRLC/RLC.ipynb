{
  "nbformat": 4,
  "nbformat_minor": 0,
  "metadata": {
    "colab": {
      "provenance": [],
      "include_colab_link": true
    },
    "kernelspec": {
      "name": "python3",
      "display_name": "Python 3"
    },
    "language_info": {
      "name": "python"
    }
  },
  "cells": [
    {
      "cell_type": "markdown",
      "metadata": {
        "id": "view-in-github",
        "colab_type": "text"
      },
      "source": [
        "<a href=\"https://colab.research.google.com/github/sarasame00/laboElectro/blob/main/3.CircuitRLC/RLC.ipynb\" target=\"_parent\"><img src=\"https://colab.research.google.com/assets/colab-badge.svg\" alt=\"Open In Colab\"/></a>"
      ]
    },
    {
      "cell_type": "code",
      "execution_count": 1,
      "metadata": {
        "id": "Bo3Z7p6IPm7u"
      },
      "outputs": [],
      "source": [
        "import numpy as np\n",
        "import matplotlib.pyplot as plt\n"
      ]
    },
    {
      "cell_type": "markdown",
      "source": [
        "##Règim permanent: Freqüència pròpia i freqüències de tall"
      ],
      "metadata": {
        "id": "vn5kEKWHPny8"
      }
    },
    {
      "cell_type": "code",
      "source": [
        "L = 22 * 10**(-3) #autoinductancia\n",
        "C = 15 * 10**(-9) #capacitat\n",
        "\n",
        "R1 = 2700 #resistencia\n",
        "R2 = 270\n",
        "\n",
        "#FREQUENCIA DE RESSONANCIA\n",
        "def f0(L,C):\n",
        "  return 1/(2*np.pi*np.sqrt(L*C))\n",
        "\n",
        "print('Freqüència de ressonància: '+ str(f0(L,C)) + ' Hz')"
      ],
      "metadata": {
        "colab": {
          "base_uri": "https://localhost:8080/"
        },
        "id": "fAHuVQjQPwec",
        "outputId": "1f24a1ca-95c5-4725-ba92-c6968fb95e70"
      },
      "execution_count": 12,
      "outputs": [
        {
          "output_type": "stream",
          "name": "stdout",
          "text": [
            "Freqüència de ressonància: 8761.191269246237 Hz\n"
          ]
        }
      ]
    },
    {
      "cell_type": "markdown",
      "source": [
        "###Valors teorics de $f_1$ i $f_2$"
      ],
      "metadata": {
        "id": "Gmb1dltDZu9R"
      }
    },
    {
      "cell_type": "code",
      "source": [
        "for i in [R2, R1]:\n",
        "\n",
        "  w0 = 2*np.pi*f0(L,C)\n",
        "  alpha = i/(L*w0*2)+np.sqrt(i**2/(L**2*w0**2*4)+1)\n",
        "\n",
        "\n",
        "  w1 = w0/alpha\n",
        "  w2 = w0**2/w1\n",
        "\n",
        "  print(f'{i}: f_1 = {w1/(2*np.pi)}, f_2 = {w2/(2*np.pi)}')"
      ],
      "metadata": {
        "id": "ID_enaltZ0wu",
        "colab": {
          "base_uri": "https://localhost:8080/"
        },
        "outputId": "95a888fa-63d4-42db-c11a-febdd27812ad"
      },
      "execution_count": 21,
      "outputs": [
        {
          "output_type": "stream",
          "name": "stdout",
          "text": [
            "270: f_1 = 7838.824484464391, f_2 = 9792.089695137653\n",
            "2700: f_1 = 3353.8720029504493, f_2 = 22886.524109683065\n"
          ]
        }
      ]
    },
    {
      "cell_type": "markdown",
      "source": [
        "###Valor teòric del guany\n"
      ],
      "metadata": {
        "id": "oHG_nSTcC8hs"
      }
    },
    {
      "cell_type": "code",
      "source": [
        "def guany(R, L, C, omega):\n",
        "  return R/np.sqrt(R**2+(L*omega-1/(C*omega))**2)\n",
        "\n",
        "print('Guany R 2700 =', guany(R1,L,C,w2))\n",
        "print('Guany R 270 =', guany(R2,L,C,w2))"
      ],
      "metadata": {
        "colab": {
          "base_uri": "https://localhost:8080/"
        },
        "id": "-Ey8dUfcC9dp",
        "outputId": "6ec148bf-8e28-4abe-f3b6-7c67d158b5d6"
      },
      "execution_count": 22,
      "outputs": [
        {
          "output_type": "stream",
          "name": "stdout",
          "text": [
            "Guany R 2700 = 0.7071067811865475\n",
            "Guany R 270 = 0.09950371902099889\n"
          ]
        }
      ]
    },
    {
      "cell_type": "markdown",
      "source": [
        "##Règim transitori: Resposta a una senyal rectangular"
      ],
      "metadata": {
        "id": "fYrA416dTaNZ"
      }
    },
    {
      "cell_type": "code",
      "source": [
        "import numpy as np\n",
        "\n",
        "\n",
        "L = 33 * 10**(-3) #autoinductancia\n",
        "C = 330 * 10**(-12) #capacitat\n",
        "R = 180 #resistencia\n",
        "\n",
        "#frequencia de les oscilacions\n",
        "def omega( R,L,C):\n",
        "  return 0.5*np.sqrt((4/(L*C))-(R/L)**2)\n",
        "\n",
        "#periode de les oscilacions\n",
        "\n",
        "def periode(R,L,C):\n",
        "  return 2*np.pi/omega(R,L,C)\n",
        "\n",
        "print('Període de les oscil·lacions: '+ str(periode(R, L, C)) + ' s')\n",
        "\n",
        "#frequenncia a posar al generador\n",
        "f = 1/(10*periode(R, L, C))\n",
        "print('Freqüència a posar al generador: '+ str(f) + ' Hz')\n",
        "\n",
        "#resistencia critica\n",
        "Rc = 2*np.sqrt(L/C)\n",
        "print('Resistència crítica: '+ str(Rc) + ' ohms')"
      ],
      "metadata": {
        "colab": {
          "base_uri": "https://localhost:8080/"
        },
        "id": "qAX7iuANQc4l",
        "outputId": "01f2e318-343b-4191-c78c-359c386abdbd"
      },
      "execution_count": null,
      "outputs": [
        {
          "output_type": "stream",
          "name": "stdout",
          "text": [
            "Període de les oscil·lacions: 2.0735351312427056e-05 s\n",
            "Freqüència a posar al generador: 4822.681732914178 Hz\n",
            "Resistència crítica: 20000.0 ohms\n"
          ]
        }
      ]
    }
  ]
}